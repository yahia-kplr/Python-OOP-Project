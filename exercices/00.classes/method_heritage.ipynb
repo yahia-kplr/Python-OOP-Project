{
    "cells": [
        {
            "cell_type": "markdown",
            "metadata": {
                "id": "view-in-github",
                "colab_type": "text"
            },
            "source": [
                "<a href=\"https://colab.research.google.com/github/yahia-kplr/Python-OOP-Project/blob/main/exercices/00.classes/method_heritage.ipynb\" target=\"_blank\"><img src=\"https://colab.research.google.com/assets/colab-badge.svg\" alt=\"Open In Colab\"/></a>"
            ]
        },
        {
            "attachments": {},
            "cell_type": "markdown",
            "metadata": {},
            "source": [
                "# Programmation Orient\u00e9e Objet"
            ]
        },
        {
            "attachments": {},
            "cell_type": "markdown",
            "metadata": {},
            "source": [
                "## A pr\u00e9sent rajoutons une m\u00e9thode afficher attributs dans chaque classe\n"
            ]
        },
        {
            "cell_type": "code",
            "execution_count": 2,
            "metadata": {},
            "outputs": [],
            "source": [
                "class Vehicule:\n",
                "    def __init__(self, marque, modele, annee):\n",
                "        self.marque = marque\n",
                "        self.modele = modele\n",
                "        self.annee = annee\n",
                "    \n",
                "    def afficher_attributs(self):\n",
                "        print(\"Attributs pour le v\u00e9hicule :\")\n",
                "        print(\"- Marque :\", self.marque)\n",
                "        print(\"- Mod\u00e8le :\", self.modele)\n",
                "        print(\"- Ann\u00e9e :\", self.annee)\n",
                "\n",
                "class Voiture(Vehicule):\n",
                "    def __init__(self, marque, modele, annee, nb_portes):\n",
                "        super().__init__(marque, modele, annee)\n",
                "        self.nb_portes = nb_portes\n",
                "    \n",
                "    def afficher_attributs(self):\n",
                "        super().afficher_attributs()\n",
                "        print(\"- Nombre de portes :\", self.nb_portes)\n",
                "\n",
                "class Moto(Vehicule):\n",
                "    def __init__(self, marque, modele, annee, nb_roues):\n",
                "        super().__init__(marque, modele, annee)\n",
                "        self.nb_roues = nb_roues\n",
                "    \n",
                "    def afficher_attributs(self):\n",
                "        super().afficher_attributs()\n",
                "        print(\"- Nombre de roues :\", self.nb_roues)"
            ]
        },
        {
            "cell_type": "code",
            "execution_count": 3,
            "metadata": {},
            "outputs": [],
            "source": [
                "# Cr\u00e9ation d'une instance de chaque classe\n",
                "voiture1 = Voiture(\"Renault\", \"Clio\", 2018, 5)\n",
                "moto1 = Moto(\"Yamaha\", \"MT-07\", 2020, 2)"
            ]
        },
        {
            "attachments": {},
            "cell_type": "markdown",
            "metadata": {},
            "source": [
                "- Dans cet exemple, la m\u00e9thode **afficher_attributs** est incluse dans la classe **Vehicule**. \n",
                "- Elle affiche les attributs communs (**marque**, **modele** et **annee**) pour chaque instance de la classe.\n",
                "\n",
                "- Les m\u00e9thodes **afficher_attributs** dans les classes **Moto** et **Voiture** red\u00e9finissent la m\u00e9thode de la classe m\u00e8re <br>\n",
                "et appellent la m\u00e9thode **afficher_attributs** de la **classe m\u00e8re** \u00e0 l'aide de la fonction **super()** pour afficher les attributs communs. "
            ]
        },
        {
            "cell_type": "code",
            "execution_count": 4,
            "metadata": {},
            "outputs": [
                {
                    "name": "stdout",
                    "output_type": "stream",
                    "text": [
                        "Attributs pour le v\u00e9hicule :\n",
                        "- Marque : Renault\n",
                        "- Mod\u00e8le : Clio\n",
                        "- Ann\u00e9e : 2018\n",
                        "- Nombre de portes : 5\n"
                    ]
                }
            ],
            "source": [
                "# Appel de la m\u00e9thode afficher_attributs pour chaque instance\n",
                "voiture1.afficher_attributs()"
            ]
        },
        {
            "attachments": {},
            "cell_type": "markdown",
            "metadata": {},
            "source": [
                "- Ensuite, elles affichent les attributs sp\u00e9cifiques de chaque **classe fille** (**nb_portes** pour la classe **Voiture** et **nb_roues** pour la classe **Moto**).\n",
                "- Enfin, on cr\u00e9e une instance de chaque classe (**voiture1 et moto1**) et on appelle la m\u00e9thode **afficher_attributs** \n",
                "  pour afficher les attributs et leurs valeurs pour chaque instance. \n",
                "- Notez que l'appel de la m\u00e9thode est identique pour chaque classe **(voiture1.afficher_attributs() et moto1.afficher_attributs())**, \n",
                "car la m\u00e9thode est maintenant d\u00e9finie dans la **classe m\u00e8re**"
            ]
        },
        {
            "cell_type": "code",
            "execution_count": 5,
            "metadata": {},
            "outputs": [
                {
                    "name": "stdout",
                    "output_type": "stream",
                    "text": [
                        "Attributs pour le v\u00e9hicule :\n",
                        "- Marque : Yamaha\n",
                        "- Mod\u00e8le : MT-07\n",
                        "- Ann\u00e9e : 2020\n",
                        "- Nombre de roues : 2\n"
                    ]
                }
            ],
            "source": [
                "moto1.afficher_attributs()"
            ]
        },
        {
            "cell_type": "code",
            "execution_count": null,
            "metadata": {},
            "outputs": [],
            "source": []
        }
    ],
    "metadata": {
        "kernelspec": {
            "display_name": "venv",
            "language": "python",
            "name": "python3"
        },
        "language_info": {
            "codemirror_mode": {
                "name": "ipython",
                "version": 3
            },
            "file_extension": ".py",
            "mimetype": "text/x-python",
            "name": "python",
            "nbconvert_exporter": "python",
            "pygments_lexer": "ipython3",
            "version": "3.11.0"
        },
        "orig_nbformat": 4
    },
    "nbformat": 4,
    "nbformat_minor": 2
}
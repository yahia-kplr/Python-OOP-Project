{
    "cells": [
        {
            "cell_type": "markdown",
            "metadata": {
                "id": "view-in-github",
                "colab_type": "text"
            },
            "source": [
                "<a href=\"https://colab.research.google.com/github/yahia-kplr/Python-OOP-Project/blob/main/exercices/01.json/load_json.ipynb\" target=\"_blank\"><img src=\"https://colab.research.google.com/assets/colab-badge.svg\" alt=\"Open In Colab\"/></a>"
            ]
        },
        {
            "attachments": {},
            "cell_type": "markdown",
            "metadata": {},
            "source": [
                "# Programmation Orient\u00e9e Objet"
            ]
        },
        {
            "attachments": {},
            "cell_type": "markdown",
            "metadata": {},
            "source": [
                "### Le code ci-dessous charge des donn\u00e9es **JSON** \u00e0 partir d'un fichier, les convertit en un **Dictionnaire** Python, puis effectue des manipulations sur ce dictionnaire."
            ]
        },
        {
            "attachments": {},
            "cell_type": "markdown",
            "metadata": {},
            "source": [
                "\n",
                "- Voici les \u00e9tapes d\u00e9taill\u00e9es :\n",
                "\n",
                "    1.\tLe module json est import\u00e9 pour manipuler des donn\u00e9es **JSON**. Les modules re et unidecode sont import\u00e9s pour la suppression des caract\u00e8res sp\u00e9ciaux.\n",
                "    2.\tLes donn\u00e9es **JSON** sont charg\u00e9es \u00e0 partir du fichier **\"_exercices/01.json/json_data.json\"** dans un dictionnaire Python \u00e0 l'aide de la fonction **json.load()**.\n",
                "    3.\tLe dictionnaire Python est converti en une cha\u00eene de caract\u00e8res **JSON** \u00e0 l'aide de la fonction **json.dumps()**.\n",
                "    4.\tLa fonction **unidecode()** est utilis\u00e9e pour enlever les accents et autres caract\u00e8res sp\u00e9ciaux de la cha\u00eene de caract\u00e8res **JSON**.\n",
                "    5.\tLa cha\u00eene de caract\u00e8res **JSON** est \u00e0 nouveau convertie en un dictionnaire Python \u00e0 l'aide de la fonction **json.loads()**.\n",
                "    6.\tLe dictionnaire Python r\u00e9sultant peut ensuite \u00eatre manipul\u00e9 et utilis\u00e9 dans le code.  \n",
                "    \n",
                "- En r\u00e9sum\u00e9, ce code permet de charger des donn\u00e9es JSON \u00e0 partir d'un fichier, de les convertir en dictionnaire Python et de les nettoyer de certains caract\u00e8res sp\u00e9ciaux avant de pouvoir les manipuler plus facilement dans le reste du programme."
            ]
        },
        {
            "attachments": {},
            "cell_type": "markdown",
            "metadata": {},
            "source": [
                "#### Import des modules n\u00e9cessaires"
            ]
        },
        {
            "cell_type": "code",
            "execution_count": null,
            "metadata": {},
            "outputs": [],
            "source": [
                "# Import des modules n\u00e9cessaires\n",
                "import json\n",
                "from unidecode import unidecode\n",
                "import re"
            ]
        },
        {
            "attachments": {},
            "cell_type": "markdown",
            "metadata": {},
            "source": [
                "#### Obtenir le chemin du r\u00e9pertoire du fichier Python actuel"
            ]
        },
        {
            "cell_type": "code",
            "execution_count": null,
            "metadata": {},
            "outputs": [],
            "source": [
                "# Get the directory path of the current Python file\n",
                "local_path = os.path.dirname(os.path.abspath(__file__))"
            ]
        },
        {
            "attachments": {},
            "cell_type": "markdown",
            "metadata": {},
            "source": [
                "#### Chargement des donn\u00e9es JSON \u00e0 partir du fichier dans un dictionnaire python"
            ]
        },
        {
            "cell_type": "code",
            "execution_count": null,
            "metadata": {},
            "outputs": [],
            "source": [
                "# Chargement des donn\u00e9es JSON \u00e0 partir du fichier dans un dictionnaire python\n",
                "json_data = json.load(open(os.path.join(local_path, 'json_data.json'), \"rb\"))"
            ]
        },
        {
            "attachments": {},
            "cell_type": "markdown",
            "metadata": {},
            "source": [
                "#### il est n\u00e9cessaire de reconvertir le dictionnaire en chaine de caractere pour le traiter ensuite"
            ]
        },
        {
            "cell_type": "code",
            "execution_count": null,
            "metadata": {},
            "outputs": [],
            "source": [
                "# il est n\u00e9cessaire de reconvertir le dictionnaire en chaine de caractere pour le traiter ensuite\n",
                "json_str = json.dumps(json_data)"
            ]
        },
        {
            "attachments": {},
            "cell_type": "markdown",
            "metadata": {},
            "source": [
                "#### Utilisation de la fonction unidecode pour enlever les accents et autres caract\u00e8res sp\u00e9ciaux\n"
            ]
        },
        {
            "cell_type": "code",
            "execution_count": null,
            "metadata": {},
            "outputs": [],
            "source": [
                "# Utilisation de la fonction unidecode pour enlever les accents et autres caract\u00e8res sp\u00e9ciaux\n",
                "json_data = (unidecode(json_str))"
            ]
        },
        {
            "attachments": {},
            "cell_type": "markdown",
            "metadata": {},
            "source": [
                "#### Conversion de la chaine de caractere JSON \u00e0 nouveau en dictionnaire Python\n",
                " Le dictionnaire python est plus pratique \u00e0 manipuler que la chaine de caract\u00e8re car il est structur\u00e9"
            ]
        },
        {
            "cell_type": "code",
            "execution_count": null,
            "metadata": {},
            "outputs": [],
            "source": [
                "# Conversion de la chaine de caractere JSON \u00e0 nouveau en dictionnaire Python\n",
                "# Le dictionnaire python est plus pratique \u00e0 manipuler que la chaine de caract\u00e8re car il est structur\u00e9\n",
                "json_dict = json.loads(json_data)"
            ]
        },
        {
            "attachments": {},
            "cell_type": "markdown",
            "metadata": {},
            "source": [
                "#### imprimons a pr\u00e9sent le dictionnaire"
            ]
        },
        {
            "cell_type": "code",
            "execution_count": null,
            "metadata": {},
            "outputs": [],
            "source": [
                "# imprimons a pr\u00e9sent le dictionnaire\n",
                "\n",
                "print(json.dumps(json_dict, indent=4))"
            ]
        }
    ],
    "metadata": {
        "language_info": {
            "name": "python"
        },
        "orig_nbformat": 4
    },
    "nbformat": 4,
    "nbformat_minor": 2
}
{
    "cells": [
        {
            "cell_type": "markdown",
            "metadata": {
                "id": "view-in-github",
                "colab_type": "text"
            },
            "source": [
                "<a href=\"https://colab.research.google.com/github/yahia-kplr/Python-OOP-Project/blob/main/exercices/02.tree/tree_clients.ipynb\" target=\"_blank\"><img src=\"https://colab.research.google.com/assets/colab-badge.svg\" alt=\"Open In Colab\"/></a>"
            ]
        },
        {
            "cell_type": "markdown",
            "metadata": {},
            "source": [
                "# Programmation Orient\u00e9e Objet"
            ]
        },
        {
            "cell_type": "markdown",
            "metadata": {},
            "source": [
                "- Nous allons \u00e0 pr\u00e9sent utiliser la classe **Tree** de la librairie **treelib** pour construire un arbre de donn\u00e9es"
            ]
        },
        {
            "cell_type": "code",
            "execution_count": 20,
            "metadata": {},
            "outputs": [],
            "source": [
                "# Import des modules n\u00e9cessaires\n",
                "import json\n",
                "from unidecode import unidecode\n",
                "from treelib import Tree\n",
                "import os"
            ]
        },
        {
            "cell_type": "code",
            "execution_count": 35,
            "metadata": {},
            "outputs": [],
            "source": [
                "# Get the directory path of the current Python file\n",
                "local_path = os.path.dirname(os.path.abspath(__file__))\n",
                "# Chargement des donn\u00e9es JSON \u00e0 partir du fichier dans un dictionnaire python\n",
                "json_data = json.load(open(os.path.join(local_path, 'json_data.json'), \"rb\"))"
            ]
        },
        {
            "cell_type": "code",
            "execution_count": 28,
            "metadata": {},
            "outputs": [],
            "source": [
                "# il est n\u00e9cessaire de reconvertir le dictionnaire en chaine de caractere pour le traiter ensuite\n",
                "json_str = json.dumps(json_data)"
            ]
        },
        {
            "cell_type": "code",
            "execution_count": 29,
            "metadata": {},
            "outputs": [],
            "source": [
                "# Utilisation de la fonction unidecode pour enlever les accents et autres caract\u00e8res sp\u00e9ciaux\n",
                "json_data = (unidecode(json_str))"
            ]
        },
        {
            "cell_type": "code",
            "execution_count": 30,
            "metadata": {},
            "outputs": [],
            "source": [
                "# Conversion de la chaine de caractere JSON \u00e0 nouveau en dictionnaire Python\n",
                "# Le dictionnaire python est plus pratique \u00e0 manipuler que la chaine de caract\u00e8re car il est structur\u00e9\n",
                "json_dict = json.loads(json_data)"
            ]
        },
        {
            "cell_type": "code",
            "execution_count": 31,
            "metadata": {},
            "outputs": [],
            "source": [
                "# Cr\u00e9er un nouvel arbre\n",
                "my_tree = Tree()\n",
                "\n",
                "def create_tree_from_dict(tree, parent_node_id, parent_dict):\n",
                "    for key, value in parent_dict.items():\n",
                "        if isinstance(value, dict):\n",
                "            # Cr\u00e9er un nouveau noeud pour la cl\u00e9 courante du dictionnaire\n",
                "            new_node_id = f\"{parent_node_id}.{key}\"\n",
                "            tree.create_node(tag=key, identifier=new_node_id, parent=parent_node_id)\n",
                "            \n",
                "            # Cr\u00e9er r\u00e9cursivement le sous-arbre pour le dictionnaire courant\n",
                "            create_tree_from_dict(tree, new_node_id, value)\n",
                "        else:\n",
                "            # Cr\u00e9er un nouveau noeud pour la feuille courante du dictionnaire\n",
                "            leaf_node_id = f\"{parent_node_id}.{key}\"\n",
                "            tree.create_node(tag=f\"{key}: {value}\", identifier=leaf_node_id, parent=parent_node_id)"
            ]
        },
        {
            "cell_type": "code",
            "execution_count": 32,
            "metadata": {},
            "outputs": [
                {
                    "data": {
                        "text/plain": [
                            "Node(tag=Racine, identifier=racine, data=None)"
                        ]
                    },
                    "execution_count": 32,
                    "metadata": {},
                    "output_type": "execute_result"
                }
            ],
            "source": [
                "# Cr\u00e9er le noeud racine pour l'arbre\n",
                "my_tree.create_node(tag=\"Racine\", identifier=\"racine\")"
            ]
        },
        {
            "cell_type": "code",
            "execution_count": 33,
            "metadata": {},
            "outputs": [],
            "source": [
                "# Cr\u00e9er la structure de l'arbre \u00e0 partir du dictionnaire\n",
                "create_tree_from_dict(my_tree, \"racine\", json_dict)"
            ]
        },
        {
            "cell_type": "code",
            "execution_count": 19,
            "metadata": {},
            "outputs": [
                {
                    "name": "stdout",
                    "output_type": "stream",
                    "text": [
                        "Racine\n",
                        "\n"
                    ]
                }
            ],
            "source": [
                "# Afficher l'arbre\n",
                "my_tree.show()"
            ]
        },
        {
            "cell_type": "markdown",
            "metadata": {},
            "source": []
        }
    ],
    "metadata": {
        "interpreter": {
            "hash": "51fe2fe87c7090012fc582c29733fd748a62ade8ad38a43f898c04f9d15da1d1"
        },
        "kernelspec": {
            "display_name": "Python 3.7.0 64-bit",
            "language": "python",
            "name": "python3"
        },
        "language_info": {
            "codemirror_mode": {
                "name": "ipython",
                "version": 3
            },
            "file_extension": ".py",
            "mimetype": "text/x-python",
            "name": "python",
            "nbconvert_exporter": "python",
            "pygments_lexer": "ipython3",
            "version": "3.7.0"
        },
        "orig_nbformat": 4
    },
    "nbformat": 4,
    "nbformat_minor": 2
}
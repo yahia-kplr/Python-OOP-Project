{
    "cells": [
        {
            "cell_type": "markdown",
            "metadata": {
                "id": "view-in-github",
                "colab_type": "text"
            },
            "source": [
                "<a href=\"https://colab.research.google.com/github/yahia-kplr/Python-OOP-Project/blob/main/exercices/02.tree/tree_construction.ipynb\" target=\"_blank\"><img src=\"https://colab.research.google.com/assets/colab-badge.svg\" alt=\"Open In Colab\"/></a>"
            ]
        },
        {
            "cell_type": "markdown",
            "metadata": {},
            "source": [
                "# Programmation Orient\u00e9e Objet"
            ]
        },
        {
            "cell_type": "markdown",
            "metadata": {},
            "source": [
                "- Nous allons \u00e0 pr\u00e9sent utiliser la classe **Tree** de la librairie **treelib** pour construire un arbre de donn\u00e9es"
            ]
        },
        {
            "cell_type": "code",
            "execution_count": 3,
            "metadata": {},
            "outputs": [],
            "source": [
                "from treelib import Tree\n",
                "\n",
                "def create_tree_from_dict(tree, parent_node_id, parent_dict):\n",
                "    for key, value in parent_dict.items():\n",
                "        if isinstance(value, dict):\n",
                "            # Cr\u00e9er un nouveau noeud pour la cl\u00e9 courante du dictionnaire\n",
                "            new_node_id = f\"{parent_node_id}.{key}\"\n",
                "            tree.create_node(tag=key, identifier=new_node_id, parent=parent_node_id)\n",
                "            \n",
                "            # Cr\u00e9er r\u00e9cursivement le sous-arbre pour le dictionnaire courant\n",
                "            create_tree_from_dict(tree, new_node_id, value)\n",
                "        else:\n",
                "            # Cr\u00e9er un nouveau noeud pour la feuille courante du dictionnaire\n",
                "            leaf_node_id = f\"{parent_node_id}.{key}\"\n",
                "            tree.create_node(tag=f\"{key}: {value}\", identifier=leaf_node_id, parent=parent_node_id)"
            ]
        },
        {
            "cell_type": "code",
            "execution_count": 4,
            "metadata": {},
            "outputs": [],
            "source": [
                "# Exemple de dictionnaire\n",
                "my_dict = {\n",
                "    \"cle1\": {\n",
                "        \"souscle1\": \"valeur1\",\n",
                "        \"souscle2\": \"valeur2\",\n",
                "        \"souscle3\": \"valeur3\"\n",
                "    },\n",
                "    \"cle2\": \"valeur4\",\n",
                "    \"cle3\": {\n",
                "        \"souscle4\": \"valeur5\"\n",
                "    }\n",
                "}"
            ]
        },
        {
            "cell_type": "code",
            "execution_count": 5,
            "metadata": {},
            "outputs": [],
            "source": [
                "# Cr\u00e9er un nouvel arbre\n",
                "my_tree = Tree()"
            ]
        },
        {
            "cell_type": "code",
            "execution_count": 6,
            "metadata": {},
            "outputs": [
                {
                    "data": {
                        "text/plain": [
                            "Node(tag=Racine, identifier=racine, data=None)"
                        ]
                    },
                    "execution_count": 6,
                    "metadata": {},
                    "output_type": "execute_result"
                }
            ],
            "source": [
                "# Cr\u00e9er le noeud racine pour l'arbre\n",
                "my_tree.create_node(tag=\"Racine\", identifier=\"racine\")"
            ]
        },
        {
            "cell_type": "code",
            "execution_count": 7,
            "metadata": {},
            "outputs": [],
            "source": [
                "# Cr\u00e9er la structure de l'arbre \u00e0 partir du dictionnaire\n",
                "create_tree_from_dict(my_tree, \"racine\", my_dict)"
            ]
        },
        {
            "cell_type": "code",
            "execution_count": 8,
            "metadata": {},
            "outputs": [
                {
                    "name": "stdout",
                    "output_type": "stream",
                    "text": [
                        "Racine\n",
                        "\u251c\u2500\u2500 cle1\n",
                        "\u2502   \u251c\u2500\u2500 souscle1: valeur1\n",
                        "\u2502   \u251c\u2500\u2500 souscle2: valeur2\n",
                        "\u2502   \u2514\u2500\u2500 souscle3: valeur3\n",
                        "\u251c\u2500\u2500 cle2: valeur4\n",
                        "\u2514\u2500\u2500 cle3\n",
                        "    \u2514\u2500\u2500 souscle4: valeur5\n",
                        "\n"
                    ]
                }
            ],
            "source": [
                "# Afficher l'arbre\n",
                "my_tree.show()"
            ]
        },
        {
            "cell_type": "markdown",
            "metadata": {},
            "source": [
                "- Dans cet exemple, la fonction **create_tree_from_dict()** parcourt r\u00e9cursivement le dictionnaire d'entr\u00e9e \n",
                "et ajoute chaque paire cl\u00e9-valeur en tant que noeud dans l'arbre. \n",
                "\n",
                "- Si une valeur de dictionnaire est rencontr\u00e9e, un nouveau noeud est cr\u00e9\u00e9 pour la cl\u00e9, \n",
                "et la fonction est appel\u00e9e r\u00e9cursivement pour cr\u00e9er un sous-arbre pour la valeur de dictionnaire. \n",
                "\n",
                "- Si une valeur non-dictionnaire est rencontr\u00e9e, un nouveau noeud est cr\u00e9\u00e9 pour la paire cl\u00e9-valeur.\n",
                "\n",
                "- Une fois que l'arbre est construit, sa m\u00e9thode **show()** est appel\u00e9e pour afficher la structure de l'arbre dans la console. \n"
            ]
        },
        {
            "cell_type": "markdown",
            "metadata": {},
            "source": []
        }
    ],
    "metadata": {
        "interpreter": {
            "hash": "51fe2fe87c7090012fc582c29733fd748a62ade8ad38a43f898c04f9d15da1d1"
        },
        "kernelspec": {
            "display_name": "Python 3.7.0 64-bit",
            "language": "python",
            "name": "python3"
        },
        "language_info": {
            "codemirror_mode": {
                "name": "ipython",
                "version": 3
            },
            "file_extension": ".py",
            "mimetype": "text/x-python",
            "name": "python",
            "nbconvert_exporter": "python",
            "pygments_lexer": "ipython3",
            "version": "3.7.0"
        },
        "orig_nbformat": 4
    },
    "nbformat": 4,
    "nbformat_minor": 2
}
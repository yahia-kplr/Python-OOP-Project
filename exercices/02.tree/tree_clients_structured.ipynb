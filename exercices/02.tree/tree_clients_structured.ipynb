{
    "cells": [
        {
            "cell_type": "markdown",
            "metadata": {
                "id": "view-in-github",
                "colab_type": "text"
            },
            "source": [
                "<a href=\"https://colab.research.google.com/github/yahia-kplr/Python-OOP-Project/blob/main/exercices/02.tree/tree_clients_structured.ipynb\" target=\"_blank\"><img src=\"https://colab.research.google.com/assets/colab-badge.svg\" alt=\"Open In Colab\"/></a>"
            ]
        },
        {
            "cell_type": "markdown",
            "metadata": {},
            "source": [
                "# Programmation Orient\u00e9e Objet"
            ]
        },
        {
            "cell_type": "markdown",
            "metadata": {},
            "source": [
                "- A pr\u00e9sent organisons un peu le code. \n",
                "- Nous allons utiliser des m\u00e9thodes et fonctions pour isolers les modules"
            ]
        },
        {
            "cell_type": "markdown",
            "metadata": {},
            "source": [
                "Ce code est un exemple d'utilisation de fonctions et de m\u00e9thodes pour organiser le code et le rendre plus lisible. \n",
                "- Il utilise les modules json, unidecode et treelib."
            ]
        },
        {
            "cell_type": "code",
            "execution_count": 6,
            "metadata": {},
            "outputs": [],
            "source": [
                "# Import des modules n\u00e9cessaires\n",
                "import json\n",
                "from unidecode import unidecode\n",
                "from treelib import Tree\n"
            ]
        },
        {
            "cell_type": "markdown",
            "metadata": {},
            "source": [
                "- La fonction `json_dict_from_file()` est utilis\u00e9e pour charger les donn\u00e9es JSON \u00e0 partir d'un fichier et les convertir en un dictionnaire Python structur\u00e9. \n",
                "Cette fonction utilise les modules json et unidecode pour effectuer cette conversion. La fonction retourne le dictionnaire Python."
            ]
        },
        {
            "cell_type": "code",
            "execution_count": 12,
            "metadata": {},
            "outputs": [],
            "source": [
                "def json_dict_from_file():\n",
                "    \"\"\"\n",
                "    Cette fonction ouvre et charge les donn\u00e9es JSON du fichier\n",
                "    dans un dictionnaire Python.\n",
                "\n",
                "    Returns:\n",
                "        dict: le dictionnaire Python contenant les donn\u00e9es JSON du fichier\n",
                "    \"\"\"\n",
                "    # Get the directory path of the current Python file\n",
                "    local_path = os.path.dirname(os.path.abspath(__file__))\n",
                "    # Chargement des donn\u00e9es JSON \u00e0 partir du fichier dans un dictionnaire python\n",
                "    json_data = json.load(open(os.path.join(local_path, 'json_data.json'), \"rb\"))\n",
                "    \n",
                "    # il est n\u00e9cessaire de reconvertir le dictionnaire en chaine de caractere pour le traiter ensuite\n",
                "    json_str = json.dumps(json_data)\n",
                "\n",
                "    # Utilisation de la fonction unidecode pour enlever les accents et autres caract\u00e8res sp\u00e9ciaux\n",
                "    json_data = (unidecode(json_str))\n",
                "\n",
                "    # Conversion de la chaine de caractere JSON \u00e0 nouveau en dictionnaire Python\n",
                "    # Le dictionnaire python est plus pratique \u00e0 manipuler que la chaine de caract\u00e8re car il est structur\u00e9\n",
                "    json_dict = json.loads(json_data)\n",
                "\n",
                "    return json_dict\n"
            ]
        },
        {
            "cell_type": "markdown",
            "metadata": {},
            "source": [
                "- La fonction `create_tree_from_dict()` est utilis\u00e9e pour cr\u00e9er un arbre treelib \u00e0 partir d'un dictionnaire Python. \n",
                "Cette fonction prend en entr\u00e9e l'arbre treelib, l'identifiant du noeud parent et le dictionnaire Python \u00e0 partir duquel l'arbre doit \u00eatre cr\u00e9\u00e9. Cette fonction utilise une approche r\u00e9cursive pour parcourir le dictionnaire et ajouter chaque \u00e9l\u00e9ment en tant que noeud dans l'arbre treelib."
            ]
        },
        {
            "cell_type": "code",
            "execution_count": 13,
            "metadata": {},
            "outputs": [],
            "source": [
                "def create_tree_from_dict(tree, parent_node_id, parent_dict):\n",
                "    \"\"\"\n",
                "    Cette fonction cr\u00e9e un arbre \u00e0 partir d'un dictionnaire.\n",
                "    Elle est appel\u00e9e r\u00e9cursivement pour chaque sous-dictionnaire.\n",
                "\n",
                "    Args:\n",
                "        tree (Tree): un objet Tree de la biblioth\u00e8que treelib pour repr\u00e9senter l'arbre\n",
                "        parent_node_id (str): l'identifiant du noeud parent dans l'arbre\n",
                "        parent_dict (dict): le dictionnaire Python contenant les donn\u00e9es \u00e0 ins\u00e9rer dans l'arbre\n",
                "    \"\"\"\n",
                "    for key, value in parent_dict.items():\n",
                "        if isinstance(value, dict):\n",
                "            # Cr\u00e9er un nouveau noeud pour la cl\u00e9 courante du dictionnaire\n",
                "            new_node_id = f\"{parent_node_id}.{key}\"\n",
                "            tree.create_node(tag=key, identifier=new_node_id, parent=parent_node_id)\n",
                "            \n",
                "            # Cr\u00e9er r\u00e9cursivement le sous-arbre pour le dictionnaire courant\n",
                "            create_tree_from_dict(tree, new_node_id, value)\n",
                "        else:\n",
                "            # Cr\u00e9er un nouveau noeud pour la feuille courante du dictionnaire\n",
                "            leaf_node_id = f\"{parent_node_id}.{key}\"\n",
                "            tree.create_node(tag=f\"{key}: {value}\", identifier=leaf_node_id, parent=parent_node_id)"
            ]
        },
        {
            "cell_type": "markdown",
            "metadata": {},
            "source": [
                "- La m\u00e9thode `main()` est utilis\u00e9e pour appeler les fonctions json_dict_from_file() et create_tree_from_dict() \n",
                "et afficher l'arbre treelib r\u00e9sultant."
            ]
        },
        {
            "cell_type": "code",
            "execution_count": 14,
            "metadata": {},
            "outputs": [],
            "source": [
                "def main():\n",
                "    \"\"\"\n",
                "    Cette fonction est la fonction principale qui orchestre toutes les autres.\n",
                "    Elle charge les donn\u00e9es JSON depuis un fichier, cr\u00e9e un objet Tree de la biblioth\u00e8que treelib,\n",
                "    et cr\u00e9e un arbre \u00e0 partir des donn\u00e9es JSON.\n",
                "\n",
                "    Elle affiche ensuite l'arbre cr\u00e9\u00e9.\n",
                "    \"\"\"\n",
                "    my_tree = Tree()\n",
                "    # Cr\u00e9er le noeud racine pour l'arbre\n",
                "    my_tree.create_node(tag=\"Racine\", identifier=\"racine\")\n",
                "\n",
                "    # Charger les donn\u00e9es JSON depuis un fichier et cr\u00e9er la structure de l'arbre \u00e0 partir du dictionnaire\n",
                "    json_dict = json_dict_from_file()\n",
                "    create_tree_from_dict(my_tree, \"racine\", json_dict)\n",
                "\n",
                "    # Afficher l'arbre\n",
                "    my_tree.show()"
            ]
        },
        {
            "cell_type": "markdown",
            "metadata": {},
            "source": [
                "- La condition if __name__ == '__main__': est utilis\u00e9e pour s'assurer que le script est ex\u00e9cut\u00e9 en tant que programme principal, \n",
                "et non import\u00e9 en tant que module dans un autre script Python."
            ]
        },
        {
            "cell_type": "code",
            "execution_count": 15,
            "metadata": {},
            "outputs": [
                {
                    "name": "stdout",
                    "output_type": "stream",
                    "text": [
                        "Racine\n",
                        "\u2514\u2500\u2500 clients\n",
                        "    \u251c\u2500\u2500 personne1\n",
                        "    \u2502   \u251c\u2500\u2500 adresse\n",
                        "    \u2502   \u2502   \u251c\u2500\u2500 pays: France\n",
                        "    \u2502   \u2502   \u251c\u2500\u2500 rue: Rue de la Paix\n",
                        "    \u2502   \u2502   \u2514\u2500\u2500 ville: Paris\n",
                        "    \u2502   \u251c\u2500\u2500 age: 25\n",
                        "    \u2502   \u251c\u2500\u2500 contacts\n",
                        "    \u2502   \u2502   \u251c\u2500\u2500 email: jean.dupont@example.com\n",
                        "    \u2502   \u2502   \u2514\u2500\u2500 telephone: 06 23 45 67 89\n",
                        "    \u2502   \u251c\u2500\u2500 nom: Dupont\n",
                        "    \u2502   \u2514\u2500\u2500 prenom: Jean\n",
                        "    \u251c\u2500\u2500 personne2\n",
                        "    \u2502   \u251c\u2500\u2500 adresse\n",
                        "    \u2502   \u2502   \u251c\u2500\u2500 pays: France\n",
                        "    \u2502   \u2502   \u251c\u2500\u2500 rue: Avenue des Champs-\u00c9lys\u00e9es\n",
                        "    \u2502   \u2502   \u2514\u2500\u2500 ville: Paris\n",
                        "    \u2502   \u251c\u2500\u2500 age: 30\n",
                        "    \u2502   \u251c\u2500\u2500 contacts\n",
                        "    \u2502   \u2502   \u251c\u2500\u2500 email: marie.martin@example.com\n",
                        "    \u2502   \u2502   \u2514\u2500\u2500 telephone: 06 34 56 78 90\n",
                        "    \u2502   \u251c\u2500\u2500 nom: Martin\n",
                        "    \u2502   \u2514\u2500\u2500 prenom: Marie\n",
                        "    \u2514\u2500\u2500 personne3\n",
                        "        \u251c\u2500\u2500 adresse\n",
                        "        \u2502   \u251c\u2500\u2500 pays: France\n",
                        "        \u2502   \u251c\u2500\u2500 rue: Rue du Faubourg Saint-Honor\u00e9\n",
                        "        \u2502   \u2514\u2500\u2500 ville: Paris\n",
                        "        \u251c\u2500\u2500 age: 35\n",
                        "        \u251c\u2500\u2500 contacts\n",
                        "        \u2502   \u251c\u2500\u2500 email: pierre.durand@example.com\n",
                        "        \u2502   \u2514\u2500\u2500 telephone: 06 45 67 89 01\n",
                        "        \u251c\u2500\u2500 nom: Durand\n",
                        "        \u2514\u2500\u2500 prenom: Pierre\n",
                        "\n"
                    ]
                }
            ],
            "source": [
                "if __name__ == '__main__':\n",
                "    # Appeler la fonction principale\n",
                "    main()"
            ]
        },
        {
            "cell_type": "markdown",
            "metadata": {},
            "source": [
                "En r\u00e9sum\u00e9, ce code \n",
                "     - charge des donn\u00e9es JSON \u00e0 partir d'un fichier, \n",
                "     - les convertit en un dictionnaire Python structur\u00e9, \n",
                "     - cr\u00e9e un arbre treelib \u00e0 partir de ce dictionnaire \n",
                "     - et affiche l'arbre dans la console."
            ]
        }
    ],
    "metadata": {
        "interpreter": {
            "hash": "51fe2fe87c7090012fc582c29733fd748a62ade8ad38a43f898c04f9d15da1d1"
        },
        "kernelspec": {
            "display_name": "Python 3.7.0 64-bit",
            "language": "python",
            "name": "python3"
        },
        "language_info": {
            "codemirror_mode": {
                "name": "ipython",
                "version": 3
            },
            "file_extension": ".py",
            "mimetype": "text/x-python",
            "name": "python",
            "nbconvert_exporter": "python",
            "pygments_lexer": "ipython3",
            "version": "3.7.0"
        },
        "orig_nbformat": 4
    },
    "nbformat": 4,
    "nbformat_minor": 2
}